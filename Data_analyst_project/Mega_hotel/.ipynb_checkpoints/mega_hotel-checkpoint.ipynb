{
 "cells": [
  {
   "cell_type": "code",
   "execution_count": 40,
   "id": "9d691c95-3ab7-4a07-a754-cd2ab20bf5c6",
   "metadata": {},
   "outputs": [],
   "source": [
    "import pandas as pd\n",
    "import matplotlib.pyplot as plt\n",
    "import seaborn as sns\n",
    "import numpy as np"
   ]
  },
  {
   "cell_type": "code",
   "execution_count": 41,
   "id": "ed12fcf7-02f8-4df4-903f-1d40977565d0",
   "metadata": {},
   "outputs": [
    {
     "name": "stderr",
     "output_type": "stream",
     "text": [
      "/home/harry/anaconda3/lib/python3.8/site-packages/openpyxl/worksheet/_read_only.py:81: UserWarning: Unknown extension is not supported and will be removed\n",
      "  for idx, row in parser.parse():\n"
     ]
    }
   ],
   "source": [
    "file_path = 'Hotel Magh 2079.xlsx'\n",
    "df = pd.read_excel(file_path,sheet_name = 'Magh')\n"
   ]
  },
  {
   "cell_type": "code",
   "execution_count": 42,
   "id": "44a25e59-2d0e-413d-b052-954874fa90a4",
   "metadata": {},
   "outputs": [
    {
     "data": {
      "text/plain": [
       "(1285, 13)"
      ]
     },
     "execution_count": 42,
     "metadata": {},
     "output_type": "execute_result"
    }
   ],
   "source": [
    "df.shape"
   ]
  },
  {
   "cell_type": "code",
   "execution_count": 43,
   "id": "398aa17d-7d67-45a5-bff8-4b5700db0e4d",
   "metadata": {
    "scrolled": true
   },
   "outputs": [
    {
     "data": {
      "text/html": [
       "<div>\n",
       "<style scoped>\n",
       "    .dataframe tbody tr th:only-of-type {\n",
       "        vertical-align: middle;\n",
       "    }\n",
       "\n",
       "    .dataframe tbody tr th {\n",
       "        vertical-align: top;\n",
       "    }\n",
       "\n",
       "    .dataframe thead th {\n",
       "        text-align: right;\n",
       "    }\n",
       "</style>\n",
       "<table border=\"1\" class=\"dataframe\">\n",
       "  <thead>\n",
       "    <tr style=\"text-align: right;\">\n",
       "      <th></th>\n",
       "      <th>Unnamed: 0</th>\n",
       "      <th>Unnamed: 1</th>\n",
       "      <th>Unnamed: 2</th>\n",
       "      <th>Unnamed: 3</th>\n",
       "      <th>Unnamed: 4</th>\n",
       "      <th>Unnamed: 5</th>\n",
       "      <th>Unnamed: 6</th>\n",
       "      <th>Unnamed: 7</th>\n",
       "      <th>Unnamed: 8</th>\n",
       "      <th>Unnamed: 9</th>\n",
       "      <th>Unnamed: 10</th>\n",
       "      <th>Unnamed: 11</th>\n",
       "      <th>Unnamed: 12</th>\n",
       "    </tr>\n",
       "  </thead>\n",
       "  <tbody>\n",
       "    <tr>\n",
       "      <th>0</th>\n",
       "      <td>NaN</td>\n",
       "      <td>NaN</td>\n",
       "      <td>NaN</td>\n",
       "      <td>NaN</td>\n",
       "      <td>MASTERSHEET OF MAGH</td>\n",
       "      <td>NaN</td>\n",
       "      <td>NaN</td>\n",
       "      <td>NaN</td>\n",
       "      <td>NaN</td>\n",
       "      <td>NaN</td>\n",
       "      <td>NaN</td>\n",
       "      <td>NaN</td>\n",
       "      <td>NaN</td>\n",
       "    </tr>\n",
       "    <tr>\n",
       "      <th>1</th>\n",
       "      <td>DATE</td>\n",
       "      <td>INCOME/EXPENSE</td>\n",
       "      <td>DEPARTMENT</td>\n",
       "      <td>TYPE</td>\n",
       "      <td>VENDOR/COSTUMER</td>\n",
       "      <td>PARTICULAR</td>\n",
       "      <td>QTY</td>\n",
       "      <td>UOM</td>\n",
       "      <td>CREDIT</td>\n",
       "      <td>CASH</td>\n",
       "      <td>REMARKS</td>\n",
       "      <td>TYPER</td>\n",
       "      <td>CREDITOR/DEBTOR</td>\n",
       "    </tr>\n",
       "    <tr>\n",
       "      <th>2</th>\n",
       "      <td>2079-10-01 00:00:00</td>\n",
       "      <td>Income</td>\n",
       "      <td>Room</td>\n",
       "      <td>202</td>\n",
       "      <td>Sujan Tulachan</td>\n",
       "      <td>Room</td>\n",
       "      <td>1</td>\n",
       "      <td>Day</td>\n",
       "      <td>NaN</td>\n",
       "      <td>2000</td>\n",
       "      <td>BILL NO 250</td>\n",
       "      <td>s</td>\n",
       "      <td>Cash</td>\n",
       "    </tr>\n",
       "    <tr>\n",
       "      <th>3</th>\n",
       "      <td>2079-10-01 00:00:00</td>\n",
       "      <td>Income</td>\n",
       "      <td>Room</td>\n",
       "      <td>204</td>\n",
       "      <td>Sujan Tulachan</td>\n",
       "      <td>Room</td>\n",
       "      <td>1</td>\n",
       "      <td>Day</td>\n",
       "      <td>NaN</td>\n",
       "      <td>2000</td>\n",
       "      <td>BILL NO 250</td>\n",
       "      <td>s</td>\n",
       "      <td>Cash</td>\n",
       "    </tr>\n",
       "    <tr>\n",
       "      <th>4</th>\n",
       "      <td>2079-10-01 00:00:00</td>\n",
       "      <td>Income</td>\n",
       "      <td>Resturant</td>\n",
       "      <td>Bar</td>\n",
       "      <td>Sujan Tulachan</td>\n",
       "      <td>Mineral Water</td>\n",
       "      <td>3</td>\n",
       "      <td>Bottle</td>\n",
       "      <td>NaN</td>\n",
       "      <td>90</td>\n",
       "      <td>BILL NO 250</td>\n",
       "      <td>s</td>\n",
       "      <td>Cash</td>\n",
       "    </tr>\n",
       "  </tbody>\n",
       "</table>\n",
       "</div>"
      ],
      "text/plain": [
       "            Unnamed: 0      Unnamed: 1  Unnamed: 2 Unnamed: 3  \\\n",
       "0                  NaN             NaN         NaN        NaN   \n",
       "1                 DATE  INCOME/EXPENSE  DEPARTMENT       TYPE   \n",
       "2  2079-10-01 00:00:00          Income        Room        202   \n",
       "3  2079-10-01 00:00:00          Income        Room        204   \n",
       "4  2079-10-01 00:00:00          Income   Resturant        Bar   \n",
       "\n",
       "                                          Unnamed: 4     Unnamed: 5  \\\n",
       "0                                MASTERSHEET OF MAGH            NaN   \n",
       "1                                    VENDOR/COSTUMER     PARTICULAR   \n",
       "2                                     Sujan Tulachan           Room   \n",
       "3                                     Sujan Tulachan           Room   \n",
       "4                                     Sujan Tulachan  Mineral Water   \n",
       "\n",
       "  Unnamed: 6 Unnamed: 7 Unnamed: 8 Unnamed: 9  Unnamed: 10 Unnamed: 11  \\\n",
       "0        NaN        NaN        NaN        NaN          NaN         NaN   \n",
       "1        QTY        UOM     CREDIT       CASH      REMARKS       TYPER   \n",
       "2          1        Day        NaN       2000  BILL NO 250           s   \n",
       "3          1        Day        NaN       2000  BILL NO 250           s   \n",
       "4          3     Bottle        NaN         90  BILL NO 250           s   \n",
       "\n",
       "       Unnamed: 12  \n",
       "0              NaN  \n",
       "1  CREDITOR/DEBTOR  \n",
       "2             Cash  \n",
       "3             Cash  \n",
       "4             Cash  "
      ]
     },
     "execution_count": 43,
     "metadata": {},
     "output_type": "execute_result"
    }
   ],
   "source": [
    "df.head()"
   ]
  },
  {
   "cell_type": "code",
   "execution_count": 5,
   "id": "86edee60-21d5-40dc-baaa-1016e2443505",
   "metadata": {},
   "outputs": [],
   "source": [
    "df.columns = df.iloc[1] # this will make rows 0 to columns header"
   ]
  },
  {
   "cell_type": "code",
   "execution_count": 6,
   "id": "9dd67af1-60d1-46b2-a6af-d8ad0877c9d0",
   "metadata": {},
   "outputs": [],
   "source": [
    "#drops fisrt and second row \n",
    "df = df.drop([0,1])"
   ]
  },
  {
   "cell_type": "code",
   "execution_count": 37,
   "id": "129b9773-474c-43f9-94aa-4b9d64b07bf2",
   "metadata": {},
   "outputs": [
    {
     "ename": "KeyError",
     "evalue": "\"None of ['DATE'] are in the columns\"",
     "output_type": "error",
     "traceback": [
      "\u001b[0;31m---------------------------------------------------------------------------\u001b[0m",
      "\u001b[0;31mKeyError\u001b[0m                                  Traceback (most recent call last)",
      "\u001b[0;32m/tmp/ipykernel_4153/2803407668.py\u001b[0m in \u001b[0;36m?\u001b[0;34m()\u001b[0m\n\u001b[0;32m----> 1\u001b[0;31m \u001b[0mdf\u001b[0m \u001b[0;34m=\u001b[0m \u001b[0mdf\u001b[0m\u001b[0;34m.\u001b[0m\u001b[0mset_index\u001b[0m\u001b[0;34m(\u001b[0m\u001b[0;34m\"DATE\"\u001b[0m\u001b[0;34m,\u001b[0m\u001b[0minplace\u001b[0m \u001b[0;34m=\u001b[0m \u001b[0;32mTrue\u001b[0m\u001b[0;34m)\u001b[0m \u001b[0;31m# changed index to Data\u001b[0m\u001b[0;34m\u001b[0m\u001b[0;34m\u001b[0m\u001b[0m\n\u001b[0m",
      "\u001b[0;32m~/anaconda3/lib/python3.8/site-packages/pandas/core/frame.py\u001b[0m in \u001b[0;36m?\u001b[0;34m(self, keys, drop, append, inplace, verify_integrity)\u001b[0m\n\u001b[1;32m   5855\u001b[0m                     \u001b[0;32mif\u001b[0m \u001b[0;32mnot\u001b[0m \u001b[0mfound\u001b[0m\u001b[0;34m:\u001b[0m\u001b[0;34m\u001b[0m\u001b[0;34m\u001b[0m\u001b[0m\n\u001b[1;32m   5856\u001b[0m                         \u001b[0mmissing\u001b[0m\u001b[0;34m.\u001b[0m\u001b[0mappend\u001b[0m\u001b[0;34m(\u001b[0m\u001b[0mcol\u001b[0m\u001b[0;34m)\u001b[0m\u001b[0;34m\u001b[0m\u001b[0;34m\u001b[0m\u001b[0m\n\u001b[1;32m   5857\u001b[0m \u001b[0;34m\u001b[0m\u001b[0m\n\u001b[1;32m   5858\u001b[0m         \u001b[0;32mif\u001b[0m \u001b[0mmissing\u001b[0m\u001b[0;34m:\u001b[0m\u001b[0;34m\u001b[0m\u001b[0;34m\u001b[0m\u001b[0m\n\u001b[0;32m-> 5859\u001b[0;31m             \u001b[0;32mraise\u001b[0m \u001b[0mKeyError\u001b[0m\u001b[0;34m(\u001b[0m\u001b[0;34mf\"None of {missing} are in the columns\"\u001b[0m\u001b[0;34m)\u001b[0m\u001b[0;34m\u001b[0m\u001b[0;34m\u001b[0m\u001b[0m\n\u001b[0m\u001b[1;32m   5860\u001b[0m \u001b[0;34m\u001b[0m\u001b[0m\n\u001b[1;32m   5861\u001b[0m         \u001b[0;32mif\u001b[0m \u001b[0minplace\u001b[0m\u001b[0;34m:\u001b[0m\u001b[0;34m\u001b[0m\u001b[0;34m\u001b[0m\u001b[0m\n\u001b[1;32m   5862\u001b[0m             \u001b[0mframe\u001b[0m \u001b[0;34m=\u001b[0m \u001b[0mself\u001b[0m\u001b[0;34m\u001b[0m\u001b[0;34m\u001b[0m\u001b[0m\n",
      "\u001b[0;31mKeyError\u001b[0m: \"None of ['DATE'] are in the columns\""
     ]
    }
   ],
   "source": [
    "df = df.set_index(\"DATE\",inplace = True) # changed index to Data "
   ]
  },
  {
   "cell_type": "code",
   "execution_count": 8,
   "id": "a6945508-3fd4-4d52-b6e5-439189eaa30c",
   "metadata": {},
   "outputs": [
    {
     "name": "stdout",
     "output_type": "stream",
     "text": [
      "Data Overview\n",
      "Total Rows: 1283\n",
      "Total Columns: 12\n",
      "Column With NULL values: 1\n",
      "INCOME/EXPENSE       0\n",
      "DEPARTMENT           0\n",
      "TYPE                 0\n",
      "VENDOR/COSTUMER      0\n",
      "PARTICULAR           0\n",
      "QTY                119\n",
      "UOM                119\n",
      "CREDIT             674\n",
      "CASH               609\n",
      "REMARKS             72\n",
      "TYPER                0\n",
      "CREDITOR/DEBTOR      0\n",
      "dtype: int64\n"
     ]
    }
   ],
   "source": [
    "# SPEP 1 dATA OVERVIEW\n",
    "print(\"Data Overview\")\n",
    "print(\"Total Rows:\",df.shape[0])\n",
    "print(\"Total Columns:\",df.shape[1])\n",
    "print(\"Column With NULL values:\",df.isnull().sum())"
   ]
  },
  {
   "cell_type": "code",
   "execution_count": 38,
   "id": "353e66a9-4e28-4a58-9877-e90a5fa660c1",
   "metadata": {},
   "outputs": [],
   "source": [
    "df['QTY'] = df['QTY'].fillna(0,inplace=True)"
   ]
  },
  {
   "cell_type": "code",
   "execution_count": 10,
   "id": "688ec510-9578-482d-8ace-18193b278618",
   "metadata": {},
   "outputs": [],
   "source": [
    "df['UOM'].fillna('Harry',inplace = True)"
   ]
  },
  {
   "cell_type": "code",
   "execution_count": 11,
   "id": "0b854b3e-a649-4079-9b94-332e5c282bf7",
   "metadata": {},
   "outputs": [],
   "source": [
    "df['CREDIT'].fillna(0,inplace=True)\n",
    "df['CASH'].fillna(0,inplace=True)\n",
    "df['REMARKS'].fillna('Harry',inplace=True)"
   ]
  },
  {
   "cell_type": "code",
   "execution_count": 12,
   "id": "eed86515-6973-45cf-b303-6bcedf745436",
   "metadata": {},
   "outputs": [
    {
     "data": {
      "text/html": [
       "<div>\n",
       "<style scoped>\n",
       "    .dataframe tbody tr th:only-of-type {\n",
       "        vertical-align: middle;\n",
       "    }\n",
       "\n",
       "    .dataframe tbody tr th {\n",
       "        vertical-align: top;\n",
       "    }\n",
       "\n",
       "    .dataframe thead th {\n",
       "        text-align: right;\n",
       "    }\n",
       "</style>\n",
       "<table border=\"1\" class=\"dataframe\">\n",
       "  <thead>\n",
       "    <tr style=\"text-align: right;\">\n",
       "      <th>1</th>\n",
       "      <th>CREDIT</th>\n",
       "      <th>CASH</th>\n",
       "    </tr>\n",
       "  </thead>\n",
       "  <tbody>\n",
       "    <tr>\n",
       "      <th>count</th>\n",
       "      <td>1283.000000</td>\n",
       "      <td>1283.000000</td>\n",
       "    </tr>\n",
       "    <tr>\n",
       "      <th>mean</th>\n",
       "      <td>862.587646</td>\n",
       "      <td>1916.948558</td>\n",
       "    </tr>\n",
       "    <tr>\n",
       "      <th>std</th>\n",
       "      <td>5488.074047</td>\n",
       "      <td>17970.424199</td>\n",
       "    </tr>\n",
       "    <tr>\n",
       "      <th>min</th>\n",
       "      <td>-1645.000000</td>\n",
       "      <td>-5000.000000</td>\n",
       "    </tr>\n",
       "    <tr>\n",
       "      <th>25%</th>\n",
       "      <td>0.000000</td>\n",
       "      <td>0.000000</td>\n",
       "    </tr>\n",
       "    <tr>\n",
       "      <th>50%</th>\n",
       "      <td>0.000000</td>\n",
       "      <td>30.000000</td>\n",
       "    </tr>\n",
       "    <tr>\n",
       "      <th>75%</th>\n",
       "      <td>400.000000</td>\n",
       "      <td>500.000000</td>\n",
       "    </tr>\n",
       "    <tr>\n",
       "      <th>max</th>\n",
       "      <td>118575.000000</td>\n",
       "      <td>399950.000000</td>\n",
       "    </tr>\n",
       "  </tbody>\n",
       "</table>\n",
       "</div>"
      ],
      "text/plain": [
       "1             CREDIT           CASH\n",
       "count    1283.000000    1283.000000\n",
       "mean      862.587646    1916.948558\n",
       "std      5488.074047   17970.424199\n",
       "min     -1645.000000   -5000.000000\n",
       "25%         0.000000       0.000000\n",
       "50%         0.000000      30.000000\n",
       "75%       400.000000     500.000000\n",
       "max    118575.000000  399950.000000"
      ]
     },
     "execution_count": 12,
     "metadata": {},
     "output_type": "execute_result"
    }
   ],
   "source": [
    "df.describe()"
   ]
  },
  {
   "cell_type": "code",
   "execution_count": 13,
   "id": "fe7ac428-c449-4390-870e-919837e89b5e",
   "metadata": {},
   "outputs": [],
   "source": [
    "#saving the data after cleaning it into the files\n",
    "#df.to_csv(\"mega.csv\",index=False)"
   ]
  },
  {
   "cell_type": "code",
   "execution_count": 14,
   "id": "1c15f493-2eb7-4fc4-957d-a76038782ae3",
   "metadata": {},
   "outputs": [
    {
     "name": "stdout",
     "output_type": "stream",
     "text": [
      "Total Cash: 2459445.0\n",
      "Total Credit: 1106699.95\n"
     ]
    }
   ],
   "source": [
    "Total_Cash =df['CASH'].sum()\n",
    "Total_Credit = df['CREDIT'].sum()\n",
    "print(\"Total Cash:\",Total_Cash)\n",
    "print(\"Total Credit:\",Total_Credit)\n"
   ]
  },
  {
   "cell_type": "code",
   "execution_count": 15,
   "id": "0c2b6172-7101-4b65-bf3d-488ee2af1fdc",
   "metadata": {},
   "outputs": [
    {
     "name": "stdout",
     "output_type": "stream",
     "text": [
      "                     Cash     Credit\n",
      "INCOME/EXPENSE                      \n",
      "Expense          938730.0  702865.00\n",
      "Income          1520715.0  403834.95\n",
      "\n",
      "Total Income: 3566144.95\n",
      "\n",
      "Total Ecpenses: 3566144.95\n"
     ]
    }
   ],
   "source": [
    "Total_Income_expense = df.groupby(\"INCOME/EXPENSE\").agg(\n",
    "    Cash = ('CASH','sum'),\n",
    "    Credit = ('CREDIT','sum')\n",
    ")\n",
    "print(Total_Income_expense)\n",
    "print('\\nTotal Income:',df['CASH'].sum()+df['CREDIT'].sum())\n",
    "print('\\nTotal Ecpenses:',df['CASH'].sum()+df['CREDIT'].sum())"
   ]
  },
  {
   "cell_type": "markdown",
   "id": "2ebde6e3-5cd5-4e55-aa73-977f8f569549",
   "metadata": {},
   "source": [
    "## OVERALL REVENUE"
   ]
  },
  {
   "cell_type": "code",
   "execution_count": 16,
   "id": "6fe4b287-ca6c-4e66-b542-a10f583062d1",
   "metadata": {},
   "outputs": [
    {
     "name": "stdout",
     "output_type": "stream",
     "text": [
      "Total Income: 403834.95\n",
      "Total Cash Income: 1520715.0\n",
      "Total Revenue: 1924549.95\n"
     ]
    }
   ],
   "source": [
    "Total_Income = df.loc[df['INCOME/EXPENSE'] == 'Income','CREDIT'].sum()\n",
    "Total_Cash_Income= df.loc[df['INCOME/EXPENSE'] == 'Income', 'CASH'].sum()\n",
    "\n",
    "\n",
    "\n",
    "print('Total Income:',Total_Income)\n",
    "print(\"Total Cash Income:\",Total_Cash_Income)\n",
    "print(\"Total Revenue:\",Total_Cash_Income+Total_Income)"
   ]
  },
  {
   "cell_type": "markdown",
   "id": "1c22bc9f-f8e3-4416-8844-d3761237dd45",
   "metadata": {},
   "source": [
    "## DEPARTMENTAL PERFORMANCE"
   ]
  },
  {
   "cell_type": "code",
   "execution_count": 17,
   "id": "4f8feaaf-7631-446f-9450-25973d775365",
   "metadata": {},
   "outputs": [
    {
     "ename": "TypeError",
     "evalue": "unhashable type: 'Series'",
     "output_type": "error",
     "traceback": [
      "\u001b[0;31m---------------------------------------------------------------------------\u001b[0m",
      "\u001b[0;31mTypeError\u001b[0m                                 Traceback (most recent call last)",
      "Cell \u001b[0;32mIn[17], line 1\u001b[0m\n\u001b[0;32m----> 1\u001b[0m Revenue_by_Department \u001b[38;5;241m=\u001b[39m \u001b[43mdf\u001b[49m\u001b[38;5;241;43m.\u001b[39;49m\u001b[43mgroupby\u001b[49m\u001b[43m(\u001b[49m\u001b[38;5;124;43m\"\u001b[39;49m\u001b[38;5;124;43mDEPARTMENT\u001b[39;49m\u001b[38;5;124;43m\"\u001b[39;49m\u001b[43m)\u001b[49m\u001b[38;5;241;43m.\u001b[39;49m\u001b[43magg\u001b[49m\u001b[43m(\u001b[49m\n\u001b[1;32m      2\u001b[0m \u001b[43m    \u001b[49m\u001b[43mINCOME\u001b[49m\u001b[43m \u001b[49m\u001b[38;5;241;43m=\u001b[39;49m\u001b[43m \u001b[49m\u001b[43m(\u001b[49m\u001b[43mdf\u001b[49m\u001b[38;5;241;43m.\u001b[39;49m\u001b[43mloc\u001b[49m\u001b[43m[\u001b[49m\u001b[43mdf\u001b[49m\u001b[43m[\u001b[49m\u001b[38;5;124;43m'\u001b[39;49m\u001b[38;5;124;43mINCOME/EXPENSE\u001b[39;49m\u001b[38;5;124;43m'\u001b[39;49m\u001b[43m]\u001b[49m\u001b[43m \u001b[49m\u001b[38;5;241;43m==\u001b[39;49m\u001b[43m \u001b[49m\u001b[38;5;124;43m'\u001b[39;49m\u001b[38;5;124;43mIncome\u001b[39;49m\u001b[38;5;124;43m'\u001b[39;49m\u001b[43m,\u001b[49m\u001b[38;5;124;43m'\u001b[39;49m\u001b[38;5;124;43mCREDIT\u001b[39;49m\u001b[38;5;124;43m'\u001b[39;49m\u001b[43m]\u001b[49m\u001b[43m,\u001b[49m\u001b[38;5;124;43m'\u001b[39;49m\u001b[38;5;124;43msum\u001b[39;49m\u001b[38;5;124;43m'\u001b[39;49m\u001b[43m)\u001b[49m\u001b[43m,\u001b[49m\n\u001b[1;32m      3\u001b[0m \u001b[43m    \u001b[49m\u001b[43mEXPENSE\u001b[49m\u001b[43m \u001b[49m\u001b[38;5;241;43m=\u001b[39;49m\u001b[43m \u001b[49m\u001b[43m(\u001b[49m\u001b[43mdf\u001b[49m\u001b[38;5;241;43m.\u001b[39;49m\u001b[43mloc\u001b[49m\u001b[43m[\u001b[49m\u001b[43mdf\u001b[49m\u001b[43m[\u001b[49m\u001b[38;5;124;43m'\u001b[39;49m\u001b[38;5;124;43mINCOME/EXPENSE\u001b[39;49m\u001b[38;5;124;43m'\u001b[39;49m\u001b[43m]\u001b[49m\u001b[43m \u001b[49m\u001b[38;5;241;43m==\u001b[39;49m\u001b[43m \u001b[49m\u001b[38;5;124;43m'\u001b[39;49m\u001b[38;5;124;43mExpense\u001b[39;49m\u001b[38;5;124;43m'\u001b[39;49m\u001b[43m,\u001b[49m\u001b[38;5;124;43m'\u001b[39;49m\u001b[38;5;124;43mCREDIT\u001b[39;49m\u001b[38;5;124;43m'\u001b[39;49m\u001b[43m]\u001b[49m\u001b[43m,\u001b[49m\u001b[38;5;124;43m'\u001b[39;49m\u001b[38;5;124;43msum\u001b[39;49m\u001b[38;5;124;43m'\u001b[39;49m\u001b[43m)\u001b[49m\n\u001b[1;32m      4\u001b[0m \u001b[43m)\u001b[49m\n\u001b[1;32m      5\u001b[0m \u001b[38;5;28mprint\u001b[39m(Revenue_by_Department)\n",
      "File \u001b[0;32m~/anaconda3/lib/python3.8/site-packages/pandas/core/groupby/generic.py:1265\u001b[0m, in \u001b[0;36mDataFrameGroupBy.aggregate\u001b[0;34m(self, func, engine, engine_kwargs, *args, **kwargs)\u001b[0m\n\u001b[1;32m   1260\u001b[0m \u001b[38;5;28;01mif\u001b[39;00m maybe_use_numba(engine):\n\u001b[1;32m   1261\u001b[0m     \u001b[38;5;28;01mreturn\u001b[39;00m \u001b[38;5;28mself\u001b[39m\u001b[38;5;241m.\u001b[39m_aggregate_with_numba(\n\u001b[1;32m   1262\u001b[0m         func, \u001b[38;5;241m*\u001b[39margs, engine_kwargs\u001b[38;5;241m=\u001b[39mengine_kwargs, \u001b[38;5;241m*\u001b[39m\u001b[38;5;241m*\u001b[39mkwargs\n\u001b[1;32m   1263\u001b[0m     )\n\u001b[0;32m-> 1265\u001b[0m relabeling, func, columns, order \u001b[38;5;241m=\u001b[39m \u001b[43mreconstruct_func\u001b[49m\u001b[43m(\u001b[49m\u001b[43mfunc\u001b[49m\u001b[43m,\u001b[49m\u001b[43m \u001b[49m\u001b[38;5;241;43m*\u001b[39;49m\u001b[38;5;241;43m*\u001b[39;49m\u001b[43mkwargs\u001b[49m\u001b[43m)\u001b[49m\n\u001b[1;32m   1266\u001b[0m func \u001b[38;5;241m=\u001b[39m maybe_mangle_lambdas(func)\n\u001b[1;32m   1268\u001b[0m op \u001b[38;5;241m=\u001b[39m GroupByApply(\u001b[38;5;28mself\u001b[39m, func, args, kwargs)\n",
      "File \u001b[0;32m~/anaconda3/lib/python3.8/site-packages/pandas/core/apply.py:1201\u001b[0m, in \u001b[0;36mreconstruct_func\u001b[0;34m(func, **kwargs)\u001b[0m\n\u001b[1;32m   1198\u001b[0m         \u001b[38;5;28;01mraise\u001b[39;00m \u001b[38;5;167;01mTypeError\u001b[39;00m(\u001b[38;5;124m\"\u001b[39m\u001b[38;5;124mMust provide \u001b[39m\u001b[38;5;124m'\u001b[39m\u001b[38;5;124mfunc\u001b[39m\u001b[38;5;124m'\u001b[39m\u001b[38;5;124m or tuples of \u001b[39m\u001b[38;5;124m'\u001b[39m\u001b[38;5;124m(column, aggfunc).\u001b[39m\u001b[38;5;124m\"\u001b[39m)\n\u001b[1;32m   1200\u001b[0m \u001b[38;5;28;01mif\u001b[39;00m relabeling:\n\u001b[0;32m-> 1201\u001b[0m     func, columns, order \u001b[38;5;241m=\u001b[39m \u001b[43mnormalize_keyword_aggregation\u001b[49m\u001b[43m(\u001b[49m\u001b[43mkwargs\u001b[49m\u001b[43m)\u001b[49m\n\u001b[1;32m   1203\u001b[0m \u001b[38;5;28;01mreturn\u001b[39;00m relabeling, func, columns, order\n",
      "File \u001b[0;32m~/anaconda3/lib/python3.8/site-packages/pandas/core/apply.py:1270\u001b[0m, in \u001b[0;36mnormalize_keyword_aggregation\u001b[0;34m(kwargs)\u001b[0m\n\u001b[1;32m   1267\u001b[0m columns, pairs \u001b[38;5;241m=\u001b[39m \u001b[38;5;28mlist\u001b[39m(\u001b[38;5;28mzip\u001b[39m(\u001b[38;5;241m*\u001b[39mkwargs\u001b[38;5;241m.\u001b[39mitems()))\n\u001b[1;32m   1269\u001b[0m \u001b[38;5;28;01mfor\u001b[39;00m column, aggfunc \u001b[38;5;129;01min\u001b[39;00m pairs:\n\u001b[0;32m-> 1270\u001b[0m     \u001b[43maggspec\u001b[49m\u001b[43m[\u001b[49m\u001b[43mcolumn\u001b[49m\u001b[43m]\u001b[49m\u001b[38;5;241m.\u001b[39mappend(aggfunc)\n\u001b[1;32m   1271\u001b[0m     order\u001b[38;5;241m.\u001b[39mappend((column, com\u001b[38;5;241m.\u001b[39mget_callable_name(aggfunc) \u001b[38;5;129;01mor\u001b[39;00m aggfunc))\n\u001b[1;32m   1273\u001b[0m \u001b[38;5;66;03m# uniquify aggfunc name if duplicated in order list\u001b[39;00m\n",
      "\u001b[0;31mTypeError\u001b[0m: unhashable type: 'Series'"
     ]
    }
   ],
   "source": [
    "Revenue_by_Department = df.groupby(\"DEPARTMENT\").agg(\n",
    "    INCOME = (df.loc[df['INCOME/EXPENSE'] == 'Income','CREDIT'],'sum'),\n",
    "    EXPENSE = (df.loc[df['INCOME/EXPENSE'] == 'Expense','CREDIT'],'sum')\n",
    ")\n",
    "print(Revenue_by_Department)"
   ]
  },
  {
   "cell_type": "code",
   "execution_count": 18,
   "id": "68fdce9e-ac1e-48a2-adad-27a376deca62",
   "metadata": {},
   "outputs": [
    {
     "name": "stdout",
     "output_type": "stream",
     "text": [
      "                    Cash     Credit\n",
      "DEPARTMENT                         \n",
      "Adminstration  1085655.0   63399.95\n",
      "Kitchen          70945.0  613495.00\n",
      "Resturant      1151145.0  370305.00\n",
      "Room            151700.0   59500.00\n"
     ]
    }
   ],
   "source": [
    "Total_I_E_Department = df.groupby(\"DEPARTMENT\").agg(\n",
    "    Cash = ('CASH','sum'),\n",
    "    Credit = ('CREDIT','sum')\n",
    ")\n",
    "print(Total_I_E_Department)"
   ]
  },
  {
   "cell_type": "markdown",
   "id": "fc621ed4-5b1f-4e62-ab9e-27727ed01f5b",
   "metadata": {},
   "source": [
    "## top 2o customers"
   ]
  },
  {
   "cell_type": "code",
   "execution_count": 20,
   "id": "5a2fd853-c69d-4086-b6cd-cc60fba3ed75",
   "metadata": {
    "scrolled": true
   },
   "outputs": [
    {
     "data": {
      "text/plain": [
       "VENDOR/COSTUMER\n",
       "Guddu Veg Shop                     149\n",
       "Joshi Quality Kirana pasal         126\n",
       "Manakamana Icecream Stores          56\n",
       "Shrestha Kirana Pasal               49\n",
       "Outguest                            42\n",
       "Local Market                        30\n",
       "Out Guest                           26\n",
       "JCI Gorkha                          25\n",
       "Gaurav Maskey                       24\n",
       "Eye Hospital                        23\n",
       "Sujit Shrestha                      22\n",
       "David Michael                       21\n",
       "Puskar Gurung                       20\n",
       "Subash Koirala                      19\n",
       "Bhabana Stores                      18\n",
       "Chiranjivi Shrestha                 18\n",
       "Ishwor Maskey Sir                   17\n",
       "Sarita Sirmal                       16\n",
       "Sarswoti Stationary & Suppliers     15\n",
       "Ganesh Bhada Pasal                  15\n",
       "Name: count, dtype: int64"
      ]
     },
     "execution_count": 20,
     "metadata": {},
     "output_type": "execute_result"
    }
   ],
   "source": [
    "df['VENDOR/COSTUMER'].value_counts().head(20)"
   ]
  },
  {
   "cell_type": "code",
   "execution_count": 34,
   "id": "13a5a016-7e0a-4aba-a591-9802ae978916",
   "metadata": {},
   "outputs": [],
   "source": [
    "#df['QTY'].astype('int64')\n",
    "\n",
    "df['QTY'] = df['QTY'].str.replace(\"Half\",'0.5')"
   ]
  },
  {
   "cell_type": "code",
   "execution_count": 36,
   "id": "06c61f05-af0b-4da6-91ef-10182b4df179",
   "metadata": {},
   "outputs": [
    {
     "data": {
      "text/plain": [
       "False"
      ]
     },
     "execution_count": 36,
     "metadata": {},
     "output_type": "execute_result"
    }
   ],
   "source": [
    "\"Half\" in df['QTY']"
   ]
  },
  {
   "cell_type": "code",
   "execution_count": 35,
   "id": "acab39c7-83cd-44f3-aba5-335542161b5a",
   "metadata": {},
   "outputs": [
    {
     "name": "stdout",
     "output_type": "stream",
     "text": [
      "[nan '0.5']\n"
     ]
    }
   ],
   "source": [
    "#df['QTY'].str.replace(\",\",'')\n",
    "print(df['QTY'].unique())\n"
   ]
  },
  {
   "cell_type": "code",
   "execution_count": 23,
   "id": "59d6ea19-2091-408e-af69-ac646c810f3c",
   "metadata": {},
   "outputs": [
    {
     "name": "stdout",
     "output_type": "stream",
     "text": [
      "DATE\n",
      "2079-10-01    1\n",
      "2079-10-01    1\n",
      "2079-10-01    3\n",
      "2079-10-01    2\n",
      "2079-10-01    1\n",
      "             ..\n",
      "2079-10-29    3\n",
      "2079-10-29    1\n",
      "2079-10-29    2\n",
      "2079-10-29    2\n",
      "2079-10-29    1\n",
      "Name: QTY, Length: 1283, dtype: object\n"
     ]
    }
   ],
   "source": [
    "print(df['QTY'])\n"
   ]
  },
  {
   "cell_type": "markdown",
   "id": "e9c4edc3-927c-4ff2-8336-b5cc5355068b",
   "metadata": {},
   "source": [
    "## typer staff bonus"
   ]
  },
  {
   "cell_type": "code",
   "execution_count": 100,
   "id": "a538d184-815d-47c5-a32d-2c8f2646d557",
   "metadata": {},
   "outputs": [
    {
     "data": {
      "image/png": "[encoded data removed]",
      "text/plain": [
       "<Figure size 1000x500 with 1 Axes>"
      ]
     },
     "metadata": {},
     "output_type": "display_data"
    }
   ],
   "source": [
    "bonus = df[\"TYPER\"].value_counts()\n",
    "plt.figure(figsize=(10,5))\n",
    "bonus.plot(kind='bar',color=['blue','orange','green'])\n",
    "plt.title(\"Staff Bonus\")\n",
    "plt.xlabel(\"Staff\")\n",
    "plt.ylabel(\"Order\")\n",
    "plt.show()\n"
   ]
  },
  {
   "cell_type": "markdown",
   "id": "de1c07b7-8e65-44cf-9ac7-0e3b3eb68cee",
   "metadata": {},
   "source": [
    "## particulr with max sells"
   ]
  },
  {
   "cell_type": "code",
   "execution_count": 96,
   "id": "980866f2-bc28-404f-b609-a517bf253515",
   "metadata": {},
   "outputs": [
    {
     "name": "stdout",
     "output_type": "stream",
     "text": [
      "                   TOTAL_SELLS\n",
      "PARTICULAR                    \n",
      "Khana Set            402125.00\n",
      "Snacks+Khana Set     399950.00\n",
      "Khana+Snacks         390000.00\n",
      "Room                 208200.00\n",
      "Credit Collection    114340.00\n",
      "...                        ...\n",
      "Jam                       0.00\n",
      "Jhadu                     0.00\n",
      "Jhajar                    0.00\n",
      "Jipson Fitting            0.00\n",
      "Discount             -15077.25\n",
      "\n",
      "[382 rows x 1 columns]\n"
     ]
    }
   ],
   "source": [
    "#TOTAL_UNIT = ('UOM','sum'),\n",
    "TOTAL_SELLS = ('SELLS','sum')\n",
    "    \n",
    ").sort_values(\"TOTAL_SELLS\",ascending = False)\n",
    "print(particular)"
   ]
  },
  {
   "cell_type": "markdown",
   "id": "3c1ecbec-d02e-4c48-ad08-b47c9dc764b8",
   "metadata": {},
   "source": [
    "## conclusion these are the top income bosters"
   ]
  },
  {
   "cell_type": "code",
   "execution_count": 21,
   "id": "3d9975ca-3f05-4ab8-9b30-f1dc00c4817e",
   "metadata": {},
   "outputs": [],
   "source": [
    "#df['INCOME'] = df.loc[df['INCOME/EXPENSE'] == 'Income','CASH']\n",
    "\n",
    "df['SELLS'] = np.where(df['INCOME/EXPENSE'] == 'Income', (df['CASH']+df['CREDIT']),0)\n",
    "df['EXPENSE'] = np.where(df['INCOME/EXPENSE'] == 'Expense', (df['CASH']+df['CREDIT']),0)\n"
   ]
  },
  {
   "cell_type": "code",
   "execution_count": 22,
   "id": "525cfcb8-40b1-40bd-88c0-95b7e9f0a1f6",
   "metadata": {
    "scrolled": true
   },
   "outputs": [],
   "source": [
    "df.rename(columns= {'INCOME':'SELLS'},inplace = True)"
   ]
  },
  {
   "cell_type": "code",
   "execution_count": 23,
   "id": "cc8ccf68-6389-4b28-89b5-db5939d08df7",
   "metadata": {
    "scrolled": true
   },
   "outputs": [
    {
     "name": "stdout",
     "output_type": "stream",
     "text": [
      "            Total_Sales\n",
      "DATE                   \n",
      "2079-10-14    459000.00\n",
      "2079-10-29    405050.00\n",
      "2079-10-27    170330.00\n",
      "2079-10-13    135900.00\n",
      "2079-10-22    123135.00\n",
      "2079-10-16    122300.00\n",
      "2079-10-24    104200.00\n",
      "2079-10-21     46345.00\n",
      "2079-10-28     28916.00\n",
      "2079-10-05     26670.00\n",
      "2079-10-26     23520.00\n",
      "2079-10-02     22525.00\n",
      "2079-10-18     22194.00\n",
      "2079-10-20     22015.00\n",
      "2079-10-03     20617.50\n",
      "2079-10-08     20375.00\n",
      "2079-10-04     19785.00\n",
      "2079-10-23     18445.00\n",
      "2079-10-06     17720.00\n",
      "2079-10-19     16575.00\n",
      "2079-10-15     15120.00\n",
      "2079-10-01     14475.00\n",
      "2079-10-07     14080.00\n",
      "2079-10-10     12647.45\n",
      "2079-10-11     12400.00\n",
      "2079-10-17      8585.00\n",
      "2079-10-12      7660.00\n",
      "2079-10-25      7415.00\n",
      "2079-10-09      6550.00\n"
     ]
    }
   ],
   "source": [
    "sells_per_day = df.groupby('DATE').agg(\n",
    "    Total_Sales = ('SELLS','sum')\n",
    ").sort_values(by=\"Total_Sales\", ascending=False)\n",
    "print(sells_per_day)"
   ]
  },
  {
   "cell_type": "markdown",
   "id": "92f523d8-741c-4921-8db3-9743c1ea04a4",
   "metadata": {},
   "source": [
    "## Time-Series Visualization of Daily Sales Trends\n"
   ]
  },
  {
   "cell_type": "code",
   "execution_count": 31,
   "id": "15a41f22-1059-46ef-ac33-b031a6a58760",
   "metadata": {},
   "outputs": [
    {
     "ename": "KeyError",
     "evalue": "'DATE'",
     "output_type": "error",
     "traceback": [
      "\u001b[0;31m---------------------------------------------------------------------------\u001b[0m",
      "\u001b[0;31mKeyError\u001b[0m                                  Traceback (most recent call last)",
      "File \u001b[0;32m~/anaconda3/lib/python3.8/site-packages/pandas/core/indexes/base.py:3653\u001b[0m, in \u001b[0;36mIndex.get_loc\u001b[0;34m(self, key)\u001b[0m\n\u001b[1;32m   3652\u001b[0m \u001b[38;5;28;01mtry\u001b[39;00m:\n\u001b[0;32m-> 3653\u001b[0m     \u001b[38;5;28;01mreturn\u001b[39;00m \u001b[38;5;28;43mself\u001b[39;49m\u001b[38;5;241;43m.\u001b[39;49m\u001b[43m_engine\u001b[49m\u001b[38;5;241;43m.\u001b[39;49m\u001b[43mget_loc\u001b[49m\u001b[43m(\u001b[49m\u001b[43mcasted_key\u001b[49m\u001b[43m)\u001b[49m\n\u001b[1;32m   3654\u001b[0m \u001b[38;5;28;01mexcept\u001b[39;00m \u001b[38;5;167;01mKeyError\u001b[39;00m \u001b[38;5;28;01mas\u001b[39;00m err:\n",
      "File \u001b[0;32m~/anaconda3/lib/python3.8/site-packages/pandas/_libs/index.pyx:147\u001b[0m, in \u001b[0;36mpandas._libs.index.IndexEngine.get_loc\u001b[0;34m()\u001b[0m\n",
      "File \u001b[0;32m~/anaconda3/lib/python3.8/site-packages/pandas/_libs/index.pyx:176\u001b[0m, in \u001b[0;36mpandas._libs.index.IndexEngine.get_loc\u001b[0;34m()\u001b[0m\n",
      "File \u001b[0;32mpandas/_libs/hashtable_class_helper.pxi:7080\u001b[0m, in \u001b[0;36mpandas._libs.hashtable.PyObjectHashTable.get_item\u001b[0;34m()\u001b[0m\n",
      "File \u001b[0;32mpandas/_libs/hashtable_class_helper.pxi:7088\u001b[0m, in \u001b[0;36mpandas._libs.hashtable.PyObjectHashTable.get_item\u001b[0;34m()\u001b[0m\n",
      "\u001b[0;31mKeyError\u001b[0m: 'DATE'",
      "\nThe above exception was the direct cause of the following exception:\n",
      "\u001b[0;31mKeyError\u001b[0m                                  Traceback (most recent call last)",
      "Cell \u001b[0;32mIn[31], line 2\u001b[0m\n\u001b[1;32m      1\u001b[0m \u001b[38;5;66;03m# Group by daily sales\u001b[39;00m\n\u001b[0;32m----> 2\u001b[0m df[\u001b[38;5;124m'\u001b[39m\u001b[38;5;124mDATE\u001b[39m\u001b[38;5;124m'\u001b[39m] \u001b[38;5;241m=\u001b[39m pd\u001b[38;5;241m.\u001b[39mto_datetime(\u001b[43mdf\u001b[49m\u001b[43m[\u001b[49m\u001b[38;5;124;43m'\u001b[39;49m\u001b[38;5;124;43mDATE\u001b[39;49m\u001b[38;5;124;43m'\u001b[39;49m\u001b[43m]\u001b[49m)\n\u001b[1;32m      3\u001b[0m Daily_sells \u001b[38;5;241m=\u001b[39m df\u001b[38;5;241m.\u001b[39mgroupby(df[\u001b[38;5;124m'\u001b[39m\u001b[38;5;124mDATE\u001b[39m\u001b[38;5;124m'\u001b[39m]\u001b[38;5;241m.\u001b[39mdt\u001b[38;5;241m.\u001b[39mto_period(\u001b[38;5;124m\"\u001b[39m\u001b[38;5;124mD\u001b[39m\u001b[38;5;124m\"\u001b[39m))\u001b[38;5;241m.\u001b[39magg(\n\u001b[1;32m      4\u001b[0m     Total_Sales\u001b[38;5;241m=\u001b[39m(\u001b[38;5;124m\"\u001b[39m\u001b[38;5;124mSELLS\u001b[39m\u001b[38;5;124m\"\u001b[39m, \u001b[38;5;124m\"\u001b[39m\u001b[38;5;124msum\u001b[39m\u001b[38;5;124m\"\u001b[39m)\n\u001b[1;32m      5\u001b[0m )\n\u001b[1;32m      7\u001b[0m \u001b[38;5;66;03m# Reset index for plotting\u001b[39;00m\n",
      "File \u001b[0;32m~/anaconda3/lib/python3.8/site-packages/pandas/core/frame.py:3761\u001b[0m, in \u001b[0;36mDataFrame.__getitem__\u001b[0;34m(self, key)\u001b[0m\n\u001b[1;32m   3759\u001b[0m \u001b[38;5;28;01mif\u001b[39;00m \u001b[38;5;28mself\u001b[39m\u001b[38;5;241m.\u001b[39mcolumns\u001b[38;5;241m.\u001b[39mnlevels \u001b[38;5;241m>\u001b[39m \u001b[38;5;241m1\u001b[39m:\n\u001b[1;32m   3760\u001b[0m     \u001b[38;5;28;01mreturn\u001b[39;00m \u001b[38;5;28mself\u001b[39m\u001b[38;5;241m.\u001b[39m_getitem_multilevel(key)\n\u001b[0;32m-> 3761\u001b[0m indexer \u001b[38;5;241m=\u001b[39m \u001b[38;5;28;43mself\u001b[39;49m\u001b[38;5;241;43m.\u001b[39;49m\u001b[43mcolumns\u001b[49m\u001b[38;5;241;43m.\u001b[39;49m\u001b[43mget_loc\u001b[49m\u001b[43m(\u001b[49m\u001b[43mkey\u001b[49m\u001b[43m)\u001b[49m\n\u001b[1;32m   3762\u001b[0m \u001b[38;5;28;01mif\u001b[39;00m is_integer(indexer):\n\u001b[1;32m   3763\u001b[0m     indexer \u001b[38;5;241m=\u001b[39m [indexer]\n",
      "File \u001b[0;32m~/anaconda3/lib/python3.8/site-packages/pandas/core/indexes/base.py:3655\u001b[0m, in \u001b[0;36mIndex.get_loc\u001b[0;34m(self, key)\u001b[0m\n\u001b[1;32m   3653\u001b[0m     \u001b[38;5;28;01mreturn\u001b[39;00m \u001b[38;5;28mself\u001b[39m\u001b[38;5;241m.\u001b[39m_engine\u001b[38;5;241m.\u001b[39mget_loc(casted_key)\n\u001b[1;32m   3654\u001b[0m \u001b[38;5;28;01mexcept\u001b[39;00m \u001b[38;5;167;01mKeyError\u001b[39;00m \u001b[38;5;28;01mas\u001b[39;00m err:\n\u001b[0;32m-> 3655\u001b[0m     \u001b[38;5;28;01mraise\u001b[39;00m \u001b[38;5;167;01mKeyError\u001b[39;00m(key) \u001b[38;5;28;01mfrom\u001b[39;00m \u001b[38;5;21;01merr\u001b[39;00m\n\u001b[1;32m   3656\u001b[0m \u001b[38;5;28;01mexcept\u001b[39;00m \u001b[38;5;167;01mTypeError\u001b[39;00m:\n\u001b[1;32m   3657\u001b[0m     \u001b[38;5;66;03m# If we have a listlike key, _check_indexing_error will raise\u001b[39;00m\n\u001b[1;32m   3658\u001b[0m     \u001b[38;5;66;03m#  InvalidIndexError. Otherwise we fall through and re-raise\u001b[39;00m\n\u001b[1;32m   3659\u001b[0m     \u001b[38;5;66;03m#  the TypeError.\u001b[39;00m\n\u001b[1;32m   3660\u001b[0m     \u001b[38;5;28mself\u001b[39m\u001b[38;5;241m.\u001b[39m_check_indexing_error(key)\n",
      "\u001b[0;31mKeyError\u001b[0m: 'DATE'"
     ]
    }
   ],
   "source": [
    "# Group by daily sales\n",
    "df['DATE'] = pd.to_datetime(df['DATE'])\n",
    "Daily_sells = df.groupby(df['DATE'].dt.to_period(\"D\")).agg(\n",
    "    Total_Sales=(\"SELLS\", \"sum\")\n",
    ")\n",
    "\n",
    "# Reset index for plotting\n",
    "Daily_sells.reset_index(inplace=True)\n",
    "Daily_sells['DATE'] = Daily_sells['DATE'].dt.to_timestamp()\n",
    "\n",
    "# Plotting monthly sales trend\n",
    "plt.figure(figsize=(12, 6))\n",
    "plt.plot(Daily_sells['DATE'], Daily_sells['Total_Sales'], marker='o', linestyle='-')\n",
    "plt.title('Daily_sells Trends', fontsize=16)\n",
    "plt.xlabel('Days', fontsize=12)\n",
    "plt.ylabel('Total Sales ($)', fontsize=12)\n",
    "plt.grid(True)\n",
    "plt.tight_layout()\n",
    "plt.show()"
   ]
  },
  {
   "cell_type": "code",
   "execution_count": null,
   "id": "83d88b33-0155-4fdf-a2de-b6c88414e3fd",
   "metadata": {
    "scrolled": true
   },
   "outputs": [],
   "source": [
    "df"
   ]
  },
  {
   "cell_type": "markdown",
   "id": "dbf50c9b-147d-4667-b0f6-d39a87c9de5d",
   "metadata": {},
   "source": [
    "## top customers by sells "
   ]
  },
  {
   "cell_type": "code",
   "execution_count": 25,
   "id": "1873da6f-7b0b-4551-82e6-4e00bd4d286e",
   "metadata": {},
   "outputs": [
    {
     "name": "stdout",
     "output_type": "stream",
     "text": [
      "                            Total_amount\n",
      "VENDOR/COSTUMER                         \n",
      "Raj Tamang                      450000.0\n",
      "Thaneshwor Dawadi               400000.0\n",
      "Sujan Shrestha                  203300.0\n",
      "JCI Gorkha                      143605.0\n",
      "Raju Bhatta                     134000.0\n",
      "...                                  ...\n",
      "Kalash Oil Srores                    0.0\n",
      "Joshi Quality Kirana pasal           0.0\n",
      "Iman Thapa                           0.0\n",
      "Grisma Interprises                   0.0\n",
      "Manju Chaudhary                      0.0\n",
      "\n",
      "[170 rows x 1 columns]\n"
     ]
    }
   ],
   "source": [
    "top_customers = df.groupby('VENDOR/COSTUMER').agg(\n",
    "    Total_amount = ('SELLS','sum')\n",
    ").sort_values(by=\"Total_amount\", ascending=False)\n",
    "print(top_customers)"
   ]
  },
  {
   "cell_type": "markdown",
   "id": "7b31a598-e618-451d-a25c-9c7e4bf6bea6",
   "metadata": {},
   "source": [
    "## conclusion these are the top customer by sells"
   ]
  },
  {
   "cell_type": "markdown",
   "id": "8ca87544-7610-4a42-aaa0-07e367e974f7",
   "metadata": {},
   "source": [
    "## income or sells by department"
   ]
  },
  {
   "cell_type": "code",
   "execution_count": 26,
   "id": "7a7bf7e1-9981-46a4-9971-ccff98ce4b57",
   "metadata": {},
   "outputs": [
    {
     "name": "stdout",
     "output_type": "stream",
     "text": [
      "               Total_amount\n",
      "DEPARTMENT                 \n",
      "Resturant        1477670.00\n",
      "Adminstration     235679.95\n",
      "Room              211200.00\n",
      "Kitchen                0.00\n"
     ]
    }
   ],
   "source": [
    "department = df.groupby('DEPARTMENT').agg(\n",
    "    Total_amount = ('SELLS','sum')\n",
    ").sort_values(by=\"Total_amount\", ascending=False)\n",
    "print(department)"
   ]
  },
  {
   "cell_type": "markdown",
   "id": "063b4a33-0386-49f7-abdc-e92347a119c5",
   "metadata": {},
   "source": [
    "## CONCLUSINT- RESTURANT DOES MOST OF THE BUSINESS"
   ]
  },
  {
   "cell_type": "code",
   "execution_count": 30,
   "id": "1e46a5eb-38a1-4ef0-aaec-6ecb9da73fd4",
   "metadata": {},
   "outputs": [
    {
     "data": {
      "text/plain": [
       "<Figure size 1800x1400 with 0 Axes>"
      ]
     },
     "metadata": {},
     "output_type": "display_data"
    },
    {
     "data": {
      "image/png": "[encoded data removed]",
      "text/plain": [
       "<Figure size 640x480 with 1 Axes>"
      ]
     },
     "metadata": {},
     "output_type": "display_data"
    }
   ],
   "source": [
    "\n",
    "# Visualizing the Profit by Region\n",
    "plt.figure(figsize=(18, 14))\n",
    "department.plot(kind='pie',autopct='%1.1f%%',startangle=140, subplots=True)\n",
    "plt.title(\"Sells By Department\")\n",
    "#plt.xlabel(\"\")\n",
    "#plt.ylabel(\"\")\n",
    "plt.show()"
   ]
  },
  {
   "cell_type": "markdown",
   "id": "c1d67d19-ec0f-4199-8a09-29c677bf91d0",
   "metadata": {},
   "source": [
    "## top items based on income"
   ]
  },
  {
   "cell_type": "code",
   "execution_count": 105,
   "id": "fd587dd7-d2a8-412f-a902-5e8ed4c5b546",
   "metadata": {},
   "outputs": [
    {
     "name": "stdout",
     "output_type": "stream",
     "text": [
      "                   Total_amount\n",
      "PARTICULAR                     \n",
      "Khana Set             402125.00\n",
      "Snacks+Khana Set      399950.00\n",
      "Khana+Snacks          390000.00\n",
      "Room                  208200.00\n",
      "Credit Collection     114340.00\n",
      "...                         ...\n",
      "Jam                        0.00\n",
      "Jhadu                      0.00\n",
      "Jhajar                     0.00\n",
      "Jipson Fitting             0.00\n",
      "Discount              -15077.25\n",
      "\n",
      "[382 rows x 1 columns]\n"
     ]
    }
   ],
   "source": [
    "top_items = df.groupby('PARTICULAR').agg(\n",
    "    Total_amount = ('SELLS','sum')\n",
    ").sort_values(by=\"Total_amount\", ascending=False)\n",
    "print(top_items)"
   ]
  },
  {
   "cell_type": "code",
   "execution_count": 21,
   "id": "4750cf69-0271-4822-b4c2-e43f790f15f5",
   "metadata": {},
   "outputs": [
    {
     "name": "stdout",
     "output_type": "stream",
     "text": [
      "               Total_amount\n",
      "DEPARTMENT                 \n",
      "Adminstration      913375.0\n",
      "Kitchen            684440.0\n",
      "Resturant           43780.0\n",
      "Room                    0.0\n"
     ]
    }
   ],
   "source": [
    "expenses = df.groupby('DEPARTMENT').agg(\n",
    "    Total_amount = ('EXPENSE','sum')\n",
    ").sort_values(by=\"Total_amount\", ascending=False)\n",
    "print(expenses)"
   ]
  },
  {
   "cell_type": "code",
   "execution_count": 22,
   "id": "14142022-e3d2-47fb-a800-36a9b8f0cbe0",
   "metadata": {},
   "outputs": [
    {
     "name": "stdout",
     "output_type": "stream",
     "text": [
      "                        Total_amount\n",
      "PARTICULAR                          \n",
      "Past Credit Payment         448140.0\n",
      "Mutton                      189050.0\n",
      "Salary                      173350.0\n",
      "Chicken                      70300.0\n",
      "Chicken                      66600.0\n",
      "...                              ...\n",
      "Pancake with Honey               0.0\n",
      "Chicken Sausage Chilly           0.0\n",
      "Paneer Cheese Momo               0.0\n",
      "Paneer Curry                     0.0\n",
      "Chicken Momo Fried               0.0\n",
      "\n",
      "[382 rows x 1 columns]\n"
     ]
    }
   ],
   "source": [
    "expenses = df.groupby('PARTICULAR').agg(\n",
    "    Total_amount = ('EXPENSE','sum')\n",
    ").sort_values(by=\"Total_amount\", ascending=False)\n",
    "print(expenses)"
   ]
  },
  {
   "cell_type": "code",
   "execution_count": null,
   "id": "a3335a59-ee75-4429-8ffd-955a4ae2d46d",
   "metadata": {},
   "outputs": [],
   "source": [
    "fig, ax = plt.subplots(figsize=(20, 16))\n",
    "#ax.plot(df['SELLS'],df['EXPENSE'])\n",
    "ax.plot(df['SELLS'])\n",
    "ax.plot(df['EXPENSE'])\n",
    "plt.legend()\n",
    "\n",
    "plt.show()"
   ]
  },
  {
   "cell_type": "code",
   "execution_count": 35,
   "id": "c012a10d-3e0f-4f2f-9e1c-e315bfa4fd64",
   "metadata": {},
   "outputs": [
    {
     "data": {
      "text/plain": [
       "CREDITOR/DEBTOR\n",
       "Cash            485\n",
       "Creditor        416\n",
       "Debtor          190\n",
       "Fonepay         147\n",
       "Office Money     42\n",
       "Paid              2\n",
       "cash              1\n",
       "Name: count, dtype: int64"
      ]
     },
     "execution_count": 35,
     "metadata": {},
     "output_type": "execute_result"
    }
   ],
   "source": [
    "df['CREDITOR/DEBTOR'].value_counts()"
   ]
  },
  {
   "cell_type": "code",
   "execution_count": null,
   "id": "fcff2293-4957-4b37-9064-9fbb4d1ca061",
   "metadata": {},
   "outputs": [],
   "source": []
  }
 ],
 "metadata": {
  "kernelspec": {
   "display_name": "Python 3 (ipykernel)",
   "language": "python",
   "name": "python3"
  },
  "language_info": {
   "codemirror_mode": {
    "name": "ipython",
    "version": 3
   },
   "file_extension": ".py",
   "mimetype": "text/x-python",
   "name": "python",
   "nbconvert_exporter": "python",
   "pygments_lexer": "ipython3",
   "version": "3.8.19"
  }
 },
 "nbformat": 4,
 "nbformat_minor": 5
}
